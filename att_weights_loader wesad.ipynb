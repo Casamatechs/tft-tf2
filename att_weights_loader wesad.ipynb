{
 "cells": [
  {
   "cell_type": "code",
   "execution_count": 1,
   "metadata": {},
   "outputs": [],
   "source": [
    "import pandas as pd\n",
    "import numpy as np\n",
    "import joblib\n",
    "\n",
    "feature_names = ['chest_ACC_X', 'chest_ACC_Y', 'chest_ACC_Z', 'chest_ECG', 'chest_EMG', 'chest_EDA', 'chest_Temp', 'wrist_ACC_X', 'wrist_ACC_Y', 'wrist_ACC_Z', 'wrist_BVP', 'wrist_EDA', 'wrist_TEMP', 'NEXT_STEP', 'label', 'chest_Resp']"
   ]
  },
  {
   "cell_type": "code",
   "execution_count": 2,
   "metadata": {},
   "outputs": [],
   "source": [
    "att_weights = joblib.load('./tft_outputs/results/wesad/wesad_attention.joblib')"
   ]
  },
  {
   "cell_type": "code",
   "execution_count": 9,
   "metadata": {},
   "outputs": [
    {
     "data": {
      "text/plain": [
       "0.108971044"
      ]
     },
     "execution_count": 9,
     "metadata": {},
     "output_type": "execute_result"
    }
   ],
   "source": [
    "np.average(att_weights['future_flags'][:,:,1])"
   ]
  },
  {
   "cell_type": "code",
   "execution_count": 21,
   "metadata": {},
   "outputs": [
    {
     "data": {
      "text/plain": [
       "array([3.3960799e-08, 5.6090123e-08, 5.8102767e-08, 5.0249334e-08,\n",
       "       4.5862539e-08, 5.2844879e-08, 6.0641405e-08, 4.2650449e-08,\n",
       "       3.4644557e-08, 1.6989731e-07, 7.3566127e-08, 4.8597450e-08,\n",
       "       1.2816953e-07, 5.2601823e-08, 9.2018593e-07, 9.9999821e-01],\n",
       "      dtype=float32)"
      ]
     },
     "execution_count": 21,
     "metadata": {},
     "output_type": "execute_result"
    }
   ],
   "source": [
    "att_weights['historical_flags'][0,128,:]"
   ]
  },
  {
   "cell_type": "code",
   "execution_count": 5,
   "metadata": {},
   "outputs": [],
   "source": [
    "l = [0]*16\n",
    "for i in range(0,16):\n",
    "    l[i] = np.average(att_weights['historical_flags'][:,:,i])\n",
    "l = np.array(l)"
   ]
  },
  {
   "cell_type": "code",
   "execution_count": 6,
   "metadata": {},
   "outputs": [],
   "source": [
    "df = pd.DataFrame(np.reshape(l, (-1,1)).T, columns=feature_names)"
   ]
  },
  {
   "cell_type": "code",
   "execution_count": 7,
   "metadata": {},
   "outputs": [
    {
     "data": {
      "text/html": [
       "<div>\n",
       "<style scoped>\n",
       "    .dataframe tbody tr th:only-of-type {\n",
       "        vertical-align: middle;\n",
       "    }\n",
       "\n",
       "    .dataframe tbody tr th {\n",
       "        vertical-align: top;\n",
       "    }\n",
       "\n",
       "    .dataframe thead th {\n",
       "        text-align: right;\n",
       "    }\n",
       "</style>\n",
       "<table border=\"1\" class=\"dataframe\">\n",
       "  <thead>\n",
       "    <tr style=\"text-align: right;\">\n",
       "      <th></th>\n",
       "      <th>0</th>\n",
       "    </tr>\n",
       "  </thead>\n",
       "  <tbody>\n",
       "    <tr>\n",
       "      <th>chest_ACC_X</th>\n",
       "      <td>3.392514e-08</td>\n",
       "    </tr>\n",
       "    <tr>\n",
       "      <th>chest_ACC_Y</th>\n",
       "      <td>5.602619e-08</td>\n",
       "    </tr>\n",
       "    <tr>\n",
       "      <th>chest_ACC_Z</th>\n",
       "      <td>5.804771e-08</td>\n",
       "    </tr>\n",
       "    <tr>\n",
       "      <th>chest_ECG</th>\n",
       "      <td>5.019680e-08</td>\n",
       "    </tr>\n",
       "    <tr>\n",
       "      <th>chest_EMG</th>\n",
       "      <td>4.581358e-08</td>\n",
       "    </tr>\n",
       "    <tr>\n",
       "      <th>chest_EDA</th>\n",
       "      <td>5.279883e-08</td>\n",
       "    </tr>\n",
       "    <tr>\n",
       "      <th>chest_Temp</th>\n",
       "      <td>6.071269e-08</td>\n",
       "    </tr>\n",
       "    <tr>\n",
       "      <th>wrist_ACC_X</th>\n",
       "      <td>4.261541e-08</td>\n",
       "    </tr>\n",
       "    <tr>\n",
       "      <th>wrist_ACC_Y</th>\n",
       "      <td>3.458953e-08</td>\n",
       "    </tr>\n",
       "    <tr>\n",
       "      <th>wrist_ACC_Z</th>\n",
       "      <td>1.695053e-07</td>\n",
       "    </tr>\n",
       "    <tr>\n",
       "      <th>wrist_BVP</th>\n",
       "      <td>7.349341e-08</td>\n",
       "    </tr>\n",
       "    <tr>\n",
       "      <th>wrist_EDA</th>\n",
       "      <td>4.855766e-08</td>\n",
       "    </tr>\n",
       "    <tr>\n",
       "      <th>wrist_TEMP</th>\n",
       "      <td>1.280608e-07</td>\n",
       "    </tr>\n",
       "    <tr>\n",
       "      <th>NEXT_STEP</th>\n",
       "      <td>5.248365e-08</td>\n",
       "    </tr>\n",
       "    <tr>\n",
       "      <th>label</th>\n",
       "      <td>9.199561e-07</td>\n",
       "    </tr>\n",
       "    <tr>\n",
       "      <th>chest_Resp</th>\n",
       "      <td>9.999999e-01</td>\n",
       "    </tr>\n",
       "  </tbody>\n",
       "</table>\n",
       "</div>"
      ],
      "text/plain": [
       "                        0\n",
       "chest_ACC_X  3.392514e-08\n",
       "chest_ACC_Y  5.602619e-08\n",
       "chest_ACC_Z  5.804771e-08\n",
       "chest_ECG    5.019680e-08\n",
       "chest_EMG    4.581358e-08\n",
       "chest_EDA    5.279883e-08\n",
       "chest_Temp   6.071269e-08\n",
       "wrist_ACC_X  4.261541e-08\n",
       "wrist_ACC_Y  3.458953e-08\n",
       "wrist_ACC_Z  1.695053e-07\n",
       "wrist_BVP    7.349341e-08\n",
       "wrist_EDA    4.855766e-08\n",
       "wrist_TEMP   1.280608e-07\n",
       "NEXT_STEP    5.248365e-08\n",
       "label        9.199561e-07\n",
       "chest_Resp   9.999999e-01"
      ]
     },
     "execution_count": 7,
     "metadata": {},
     "output_type": "execute_result"
    }
   ],
   "source": [
    "df.T"
   ]
  },
  {
   "cell_type": "code",
   "execution_count": 22,
   "metadata": {},
   "outputs": [],
   "source": [
    "static_names = ['Age', 'Height', 'Weight', 'Gender', 'Dominant hand']"
   ]
  },
  {
   "cell_type": "code",
   "execution_count": 36,
   "metadata": {},
   "outputs": [],
   "source": [
    "s = [0]*5\n",
    "for i in range(0,5):\n",
    "    s[i] = np.average(att_weights['static_flags'][:,i])\n",
    "s = np.array(s)"
   ]
  },
  {
   "cell_type": "code",
   "execution_count": 38,
   "metadata": {},
   "outputs": [],
   "source": [
    "df_s = pd.DataFrame(np.reshape(s, (-1,1)).T, columns=static_names)"
   ]
  },
  {
   "cell_type": "code",
   "execution_count": 39,
   "metadata": {},
   "outputs": [
    {
     "data": {
      "text/html": [
       "<div>\n",
       "<style scoped>\n",
       "    .dataframe tbody tr th:only-of-type {\n",
       "        vertical-align: middle;\n",
       "    }\n",
       "\n",
       "    .dataframe tbody tr th {\n",
       "        vertical-align: top;\n",
       "    }\n",
       "\n",
       "    .dataframe thead th {\n",
       "        text-align: right;\n",
       "    }\n",
       "</style>\n",
       "<table border=\"1\" class=\"dataframe\">\n",
       "  <thead>\n",
       "    <tr style=\"text-align: right;\">\n",
       "      <th></th>\n",
       "      <th>0</th>\n",
       "    </tr>\n",
       "  </thead>\n",
       "  <tbody>\n",
       "    <tr>\n",
       "      <th>Age</th>\n",
       "      <td>0.004983</td>\n",
       "    </tr>\n",
       "    <tr>\n",
       "      <th>Height</th>\n",
       "      <td>0.001512</td>\n",
       "    </tr>\n",
       "    <tr>\n",
       "      <th>Weight</th>\n",
       "      <td>0.979674</td>\n",
       "    </tr>\n",
       "    <tr>\n",
       "      <th>Gender</th>\n",
       "      <td>0.008814</td>\n",
       "    </tr>\n",
       "    <tr>\n",
       "      <th>Dominant hand</th>\n",
       "      <td>0.005018</td>\n",
       "    </tr>\n",
       "  </tbody>\n",
       "</table>\n",
       "</div>"
      ],
      "text/plain": [
       "                      0\n",
       "Age            0.004983\n",
       "Height         0.001512\n",
       "Weight         0.979674\n",
       "Gender         0.008814\n",
       "Dominant hand  0.005018"
      ]
     },
     "execution_count": 39,
     "metadata": {},
     "output_type": "execute_result"
    }
   ],
   "source": [
    "df_s.T"
   ]
  }
 ],
 "metadata": {
  "interpreter": {
   "hash": "5f23c331dcc0e959a18d97d72b32723b8e8fefc4a029dc171226f15b89161c30"
  },
  "kernelspec": {
   "display_name": "Python 3.8.8 64-bit ('base': conda)",
   "name": "python3"
  },
  "language_info": {
   "codemirror_mode": {
    "name": "ipython",
    "version": 3
   },
   "file_extension": ".py",
   "mimetype": "text/x-python",
   "name": "python",
   "nbconvert_exporter": "python",
   "pygments_lexer": "ipython3",
   "version": "3.8.8"
  },
  "orig_nbformat": 4
 },
 "nbformat": 4,
 "nbformat_minor": 2
}
