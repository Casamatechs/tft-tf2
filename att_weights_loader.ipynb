{
 "cells": [
  {
   "cell_type": "code",
   "execution_count": 1,
   "metadata": {},
   "outputs": [],
   "source": [
    "import pandas as pd\n",
    "import numpy as np\n",
    "import joblib\n",
    "\n",
    "feature_names = ['GROSS_WEIGHT', 'TRIP_DISTANCE', 'ALTITUDE_DELTA', 'USED_FUEL', 'IDLE_FUEL', 'FUEL_CONSUMPTION', 'CC_FUEL', 'CC_FUEL_CONSUMPTION',\n",
    "     'CC_DIST', 'CC_ENABLED', 'BRAKEDURATION', 'HARSHBRAKEDURATION', 'TRUCK_TYPE', 'AXLE_CONF', 'COMMERCIAL_NAME',\n",
    "     'TRUCK_SERIES', 'TRUCK_ENGINE', 'DAYOFWEEK', 'HOUROFDAY', 'INDEX_TRIP','DPA_SCORE']"
   ]
  },
  {
   "cell_type": "code",
   "execution_count": 2,
   "metadata": {},
   "outputs": [],
   "source": [
    "att_weights = joblib.load('./tft_outputs/results/daf/attention_weights.joblib')"
   ]
  },
  {
   "cell_type": "code",
   "execution_count": 4,
   "metadata": {},
   "outputs": [
    {
     "data": {
      "text/plain": [
       "(1605230, 1, 1)"
      ]
     },
     "execution_count": 4,
     "metadata": {},
     "output_type": "execute_result"
    }
   ],
   "source": [
    "att_weights['future_flags'].shape"
   ]
  },
  {
   "cell_type": "code",
   "execution_count": 3,
   "metadata": {},
   "outputs": [],
   "source": [
    "l = [0]*21\n",
    "for i in range(0,21):\n",
    "    l[i] = np.average(att_weights['historical_flags'][:,:,i])\n",
    "l = np.array(l)"
   ]
  },
  {
   "cell_type": "code",
   "execution_count": 4,
   "metadata": {},
   "outputs": [],
   "source": [
    "df = pd.DataFrame(np.reshape(l, (-1,1)).T, columns=feature_names)"
   ]
  },
  {
   "cell_type": "code",
   "execution_count": 10,
   "metadata": {},
   "outputs": [
    {
     "data": {
      "text/html": [
       "<div>\n",
       "<style scoped>\n",
       "    .dataframe tbody tr th:only-of-type {\n",
       "        vertical-align: middle;\n",
       "    }\n",
       "\n",
       "    .dataframe tbody tr th {\n",
       "        vertical-align: top;\n",
       "    }\n",
       "\n",
       "    .dataframe thead th {\n",
       "        text-align: right;\n",
       "    }\n",
       "</style>\n",
       "<table border=\"1\" class=\"dataframe\">\n",
       "  <thead>\n",
       "    <tr style=\"text-align: right;\">\n",
       "      <th></th>\n",
       "      <th>0</th>\n",
       "    </tr>\n",
       "  </thead>\n",
       "  <tbody>\n",
       "    <tr>\n",
       "      <th>GROSS_WEIGHT</th>\n",
       "      <td>0.070487</td>\n",
       "    </tr>\n",
       "    <tr>\n",
       "      <th>TRIP_DISTANCE</th>\n",
       "      <td>0.043196</td>\n",
       "    </tr>\n",
       "    <tr>\n",
       "      <th>ALTITUDE_DELTA</th>\n",
       "      <td>0.026945</td>\n",
       "    </tr>\n",
       "    <tr>\n",
       "      <th>USED_FUEL</th>\n",
       "      <td>0.079655</td>\n",
       "    </tr>\n",
       "    <tr>\n",
       "      <th>IDLE_FUEL</th>\n",
       "      <td>0.024060</td>\n",
       "    </tr>\n",
       "    <tr>\n",
       "      <th>FUEL_CONSUMPTION</th>\n",
       "      <td>0.018471</td>\n",
       "    </tr>\n",
       "    <tr>\n",
       "      <th>CC_FUEL</th>\n",
       "      <td>0.011760</td>\n",
       "    </tr>\n",
       "    <tr>\n",
       "      <th>CC_FUEL_CONSUMPTION</th>\n",
       "      <td>0.014357</td>\n",
       "    </tr>\n",
       "    <tr>\n",
       "      <th>CC_DIST</th>\n",
       "      <td>0.011984</td>\n",
       "    </tr>\n",
       "    <tr>\n",
       "      <th>CC_ENABLED</th>\n",
       "      <td>0.059938</td>\n",
       "    </tr>\n",
       "    <tr>\n",
       "      <th>BRAKEDURATION</th>\n",
       "      <td>0.058784</td>\n",
       "    </tr>\n",
       "    <tr>\n",
       "      <th>HARSHBRAKEDURATION</th>\n",
       "      <td>0.085844</td>\n",
       "    </tr>\n",
       "    <tr>\n",
       "      <th>TRUCK_TYPE</th>\n",
       "      <td>0.018047</td>\n",
       "    </tr>\n",
       "    <tr>\n",
       "      <th>AXLE_CONF</th>\n",
       "      <td>0.020089</td>\n",
       "    </tr>\n",
       "    <tr>\n",
       "      <th>COMMERCIAL_NAME</th>\n",
       "      <td>0.027676</td>\n",
       "    </tr>\n",
       "    <tr>\n",
       "      <th>TRUCK_SERIES</th>\n",
       "      <td>0.042427</td>\n",
       "    </tr>\n",
       "    <tr>\n",
       "      <th>TRUCK_ENGINE</th>\n",
       "      <td>0.030550</td>\n",
       "    </tr>\n",
       "    <tr>\n",
       "      <th>DAYOFWEEK</th>\n",
       "      <td>0.041755</td>\n",
       "    </tr>\n",
       "    <tr>\n",
       "      <th>HOUROFDAY</th>\n",
       "      <td>0.037044</td>\n",
       "    </tr>\n",
       "    <tr>\n",
       "      <th>INDEX_TRIP</th>\n",
       "      <td>0.033374</td>\n",
       "    </tr>\n",
       "    <tr>\n",
       "      <th>DPA_SCORE</th>\n",
       "      <td>0.243558</td>\n",
       "    </tr>\n",
       "  </tbody>\n",
       "</table>\n",
       "</div>"
      ],
      "text/plain": [
       "                            0\n",
       "GROSS_WEIGHT         0.070487\n",
       "TRIP_DISTANCE        0.043196\n",
       "ALTITUDE_DELTA       0.026945\n",
       "USED_FUEL            0.079655\n",
       "IDLE_FUEL            0.024060\n",
       "FUEL_CONSUMPTION     0.018471\n",
       "CC_FUEL              0.011760\n",
       "CC_FUEL_CONSUMPTION  0.014357\n",
       "CC_DIST              0.011984\n",
       "CC_ENABLED           0.059938\n",
       "BRAKEDURATION        0.058784\n",
       "HARSHBRAKEDURATION   0.085844\n",
       "TRUCK_TYPE           0.018047\n",
       "AXLE_CONF            0.020089\n",
       "COMMERCIAL_NAME      0.027676\n",
       "TRUCK_SERIES         0.042427\n",
       "TRUCK_ENGINE         0.030550\n",
       "DAYOFWEEK            0.041755\n",
       "HOUROFDAY            0.037044\n",
       "INDEX_TRIP           0.033374\n",
       "DPA_SCORE            0.243558"
      ]
     },
     "execution_count": 10,
     "metadata": {},
     "output_type": "execute_result"
    }
   ],
   "source": [
    "df.T"
   ]
  }
 ],
 "metadata": {
  "interpreter": {
   "hash": "5f23c331dcc0e959a18d97d72b32723b8e8fefc4a029dc171226f15b89161c30"
  },
  "kernelspec": {
   "display_name": "Python 3.8.8 64-bit ('base': conda)",
   "name": "python3"
  },
  "language_info": {
   "codemirror_mode": {
    "name": "ipython",
    "version": 3
   },
   "file_extension": ".py",
   "mimetype": "text/x-python",
   "name": "python",
   "nbconvert_exporter": "python",
   "pygments_lexer": "ipython3",
   "version": "3.8.8"
  },
  "orig_nbformat": 4
 },
 "nbformat": 4,
 "nbformat_minor": 2
}
